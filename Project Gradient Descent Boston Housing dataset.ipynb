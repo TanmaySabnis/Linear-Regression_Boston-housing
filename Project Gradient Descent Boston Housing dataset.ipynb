{
 "cells": [
  {
   "cell_type": "markdown",
   "metadata": {},
   "source": [
    "# Gradient Descent - Boston Dataset\n",
    "\n",
    "Boston dataset is one of the datasets available in sklearn.\n",
    "\n",
    "You are given a Training dataset csv file with X train and Y train data. As studied in lecture, your task is to come up with Gradient Descent algorithm and thus predictions for the test dataset given.\n",
    "Your task is to:\n",
    "\n",
    "1. Code Gradient Descent for N features and come with predictions.\n",
    "2. Try and test with various combinations of learning rates and number of iterations.\n",
    "3. Try using Feature Scaling, and see if it helps you in getting better results. \n",
    "\n",
    "Read Instructions carefully -\n",
    "\n",
    "1. Use Gradient Descent as a training algorithm and submit results predicted.\n",
    "2. Files are in csv format, you can use genfromtxt function in numpy to load data from csv file. Similarly you can use savetxt function to save data into a file.\n",
    "3. Submit a csv file with only predictions for X test data. File name should not have spaces. File should not have any headers and should only have one column i.e. predictions. Also predictions shouldn't be in exponential form. \n",
    "4. Your score is based on coefficient of determination."
   ]
  },
  {
   "cell_type": "markdown",
   "metadata": {},
   "source": [
    "### Importing libraries and Data"
   ]
  },
  {
   "cell_type": "code",
   "execution_count": 1,
   "metadata": {},
   "outputs": [],
   "source": [
    "import numpy as np\n",
    "import pandas as pd\n",
    "import matplotlib.pyplot as plt\n",
    "import seaborn as sns"
   ]
  },
  {
   "cell_type": "code",
   "execution_count": 3,
   "metadata": {},
   "outputs": [],
   "source": [
    "train_data = np.genfromtxt('training_boston_x_y_train.csv',delimiter=',')\n",
    "test_data = np.genfromtxt(\"test_boston_x_test.csv\",delimiter=',')"
   ]
  },
  {
   "cell_type": "code",
   "execution_count": 4,
   "metadata": {},
   "outputs": [
    {
     "data": {
      "text/plain": [
       "((379, 14), (127, 13))"
      ]
     },
     "execution_count": 4,
     "metadata": {},
     "output_type": "execute_result"
    }
   ],
   "source": [
    "train_data.shape,test_data.shape"
   ]
  },
  {
   "cell_type": "markdown",
   "metadata": {},
   "source": [
    "### Basic EDA and Feature scaling"
   ]
  },
  {
   "cell_type": "code",
   "execution_count": 5,
   "metadata": {},
   "outputs": [
    {
     "data": {
      "text/html": [
       "<div>\n",
       "<style scoped>\n",
       "    .dataframe tbody tr th:only-of-type {\n",
       "        vertical-align: middle;\n",
       "    }\n",
       "\n",
       "    .dataframe tbody tr th {\n",
       "        vertical-align: top;\n",
       "    }\n",
       "\n",
       "    .dataframe thead th {\n",
       "        text-align: right;\n",
       "    }\n",
       "</style>\n",
       "<table border=\"1\" class=\"dataframe\">\n",
       "  <thead>\n",
       "    <tr style=\"text-align: right;\">\n",
       "      <th></th>\n",
       "      <th>0</th>\n",
       "      <th>1</th>\n",
       "      <th>2</th>\n",
       "      <th>3</th>\n",
       "      <th>4</th>\n",
       "      <th>5</th>\n",
       "      <th>6</th>\n",
       "      <th>7</th>\n",
       "      <th>8</th>\n",
       "      <th>9</th>\n",
       "      <th>10</th>\n",
       "      <th>11</th>\n",
       "      <th>12</th>\n",
       "      <th>13</th>\n",
       "    </tr>\n",
       "  </thead>\n",
       "  <tbody>\n",
       "    <tr>\n",
       "      <th>0</th>\n",
       "      <td>-0.407850</td>\n",
       "      <td>-0.487722</td>\n",
       "      <td>-1.266023</td>\n",
       "      <td>-0.272599</td>\n",
       "      <td>-0.576134</td>\n",
       "      <td>1.239974</td>\n",
       "      <td>0.840122</td>\n",
       "      <td>-0.520264</td>\n",
       "      <td>-0.752922</td>\n",
       "      <td>-1.278354</td>\n",
       "      <td>-0.303094</td>\n",
       "      <td>0.410571</td>\n",
       "      <td>-1.097990</td>\n",
       "      <td>37.9</td>\n",
       "    </tr>\n",
       "    <tr>\n",
       "      <th>1</th>\n",
       "      <td>-0.407374</td>\n",
       "      <td>-0.487722</td>\n",
       "      <td>0.247057</td>\n",
       "      <td>-0.272599</td>\n",
       "      <td>-1.016689</td>\n",
       "      <td>0.001946</td>\n",
       "      <td>-0.838337</td>\n",
       "      <td>0.336351</td>\n",
       "      <td>-0.523001</td>\n",
       "      <td>-0.060801</td>\n",
       "      <td>0.113032</td>\n",
       "      <td>0.291169</td>\n",
       "      <td>-0.520474</td>\n",
       "      <td>21.4</td>\n",
       "    </tr>\n",
       "    <tr>\n",
       "      <th>2</th>\n",
       "      <td>0.125179</td>\n",
       "      <td>-0.487722</td>\n",
       "      <td>1.015999</td>\n",
       "      <td>-0.272599</td>\n",
       "      <td>1.367490</td>\n",
       "      <td>-0.439699</td>\n",
       "      <td>0.687212</td>\n",
       "      <td>-0.577309</td>\n",
       "      <td>1.661245</td>\n",
       "      <td>1.530926</td>\n",
       "      <td>0.806576</td>\n",
       "      <td>-3.795795</td>\n",
       "      <td>0.891076</td>\n",
       "      <td>12.7</td>\n",
       "    </tr>\n",
       "    <tr>\n",
       "      <th>3</th>\n",
       "      <td>0.028304</td>\n",
       "      <td>-0.487722</td>\n",
       "      <td>1.015999</td>\n",
       "      <td>-0.272599</td>\n",
       "      <td>1.859875</td>\n",
       "      <td>-0.047918</td>\n",
       "      <td>0.801005</td>\n",
       "      <td>-0.712836</td>\n",
       "      <td>1.661245</td>\n",
       "      <td>1.530926</td>\n",
       "      <td>0.806576</td>\n",
       "      <td>-0.066050</td>\n",
       "      <td>0.215438</td>\n",
       "      <td>19.9</td>\n",
       "    </tr>\n",
       "    <tr>\n",
       "      <th>4</th>\n",
       "      <td>-0.412408</td>\n",
       "      <td>-0.487722</td>\n",
       "      <td>-0.969827</td>\n",
       "      <td>-0.272599</td>\n",
       "      <td>-0.913029</td>\n",
       "      <td>-0.384137</td>\n",
       "      <td>-0.834781</td>\n",
       "      <td>0.300508</td>\n",
       "      <td>-0.752922</td>\n",
       "      <td>-0.957633</td>\n",
       "      <td>0.020560</td>\n",
       "      <td>0.431074</td>\n",
       "      <td>0.029007</td>\n",
       "      <td>22.5</td>\n",
       "    </tr>\n",
       "  </tbody>\n",
       "</table>\n",
       "</div>"
      ],
      "text/plain": [
       "          0         1         2         3         4         5         6  \\\n",
       "0 -0.407850 -0.487722 -1.266023 -0.272599 -0.576134  1.239974  0.840122   \n",
       "1 -0.407374 -0.487722  0.247057 -0.272599 -1.016689  0.001946 -0.838337   \n",
       "2  0.125179 -0.487722  1.015999 -0.272599  1.367490 -0.439699  0.687212   \n",
       "3  0.028304 -0.487722  1.015999 -0.272599  1.859875 -0.047918  0.801005   \n",
       "4 -0.412408 -0.487722 -0.969827 -0.272599 -0.913029 -0.384137 -0.834781   \n",
       "\n",
       "          7         8         9        10        11        12    13  \n",
       "0 -0.520264 -0.752922 -1.278354 -0.303094  0.410571 -1.097990  37.9  \n",
       "1  0.336351 -0.523001 -0.060801  0.113032  0.291169 -0.520474  21.4  \n",
       "2 -0.577309  1.661245  1.530926  0.806576 -3.795795  0.891076  12.7  \n",
       "3 -0.712836  1.661245  1.530926  0.806576 -0.066050  0.215438  19.9  \n",
       "4  0.300508 -0.752922 -0.957633  0.020560  0.431074  0.029007  22.5  "
      ]
     },
     "execution_count": 5,
     "metadata": {},
     "output_type": "execute_result"
    }
   ],
   "source": [
    "df_train = pd.DataFrame(train_data)\n",
    "df_test = pd.DataFrame(test_data)\n",
    "df_train.head()"
   ]
  },
  {
   "cell_type": "code",
   "execution_count": 6,
   "metadata": {},
   "outputs": [],
   "source": [
    "# Training and testing data are already scaled.\n",
    "# Running Gradient descent"
   ]
  },
  {
   "cell_type": "code",
   "execution_count": 7,
   "metadata": {},
   "outputs": [],
   "source": [
    "def GD(data, learning_rate, iterations):\n",
    "    c  = 0\n",
    "    m = [0]*13 # M is an array of features == x\n",
    "    M = len(data)\n",
    "    costs = []\n",
    "    for i in range(iterations):\n",
    "        \n",
    "        m,c = step_gradient(data,learning_rate, m,c)\n",
    "        cost_achieved = cost(data,m,c)\n",
    "        costs.append(cost_achieved)\n",
    "    return m,c,costs\n",
    "\n",
    "def run():\n",
    "    data = np.genfromtxt('training_boston_x_y_train.csv',delimiter=',')\n",
    "    learning_rate = 0.08\n",
    "    iterations = 350\n",
    "    ans,c,costs = GD(data, learning_rate, iterations)\n",
    "    for i in range(len(ans)):\n",
    "        print(\"m{}\".format(i),\":\",ans[i])\n",
    "    print(\"c:\",c)\n",
    "    return ans,c,costs"
   ]
  },
  {
   "cell_type": "code",
   "execution_count": 8,
   "metadata": {},
   "outputs": [],
   "source": [
    "def step_gradient(data, learning_rate, m,c):\n",
    "    M = len(data)\n",
    "    \n",
    "    slopes = [0]*13\n",
    "    c_slope = 0\n",
    "    # Iterating over M rows\n",
    "    for i in range(M):\n",
    "        \n",
    "        x = data[i,:13]\n",
    "        #x = preprocessing.minmax_scale(x,feature_range=(-1,1))\n",
    "        y = data[i,13]\n",
    "        \n",
    "        \n",
    "        for j in range(len(x)):\n",
    "            slopes[j] += (-2/M)*(y-add(x,m)-c)*x[j]\n",
    "        c_slope += (-2/M)*(y-add(x,m)-c)\n",
    "    for i in range(len(m)):\n",
    "        m[i] = m[i] - learning_rate*slopes[i]\n",
    "    c = c - learning_rate*c_slope\n",
    "    return m,c\n",
    "\n",
    "def cost(data,m,c):\n",
    "    total = 0\n",
    "    \n",
    "    M = len(data)\n",
    "    for i in range(M):\n",
    "        x = data[i,:13]\n",
    "        #x = preprocessing.minmax_scale(x,feature_range=(-1,1))\n",
    "        y = data[i,13]\n",
    "        \n",
    "        \n",
    "        total += (1/M)*((y - add(x,m)-c)**2)\n",
    "    return total\n"
   ]
  },
  {
   "cell_type": "code",
   "execution_count": 9,
   "metadata": {},
   "outputs": [],
   "source": [
    "def add(x,m):\n",
    "    sum = 0\n",
    "    for i in range(len(x)):\n",
    "        sum += x[i]*m[i]\n",
    "    return sum"
   ]
  },
  {
   "cell_type": "code",
   "execution_count": 10,
   "metadata": {
    "scrolled": true
   },
   "outputs": [
    {
     "name": "stdout",
     "output_type": "stream",
     "text": [
      "m0 : -0.9356269363361551\n",
      "m1 : 0.7341887265288941\n",
      "m2 : -0.008146784719337025\n",
      "m3 : 0.783063604176345\n",
      "m4 : -2.171661767594316\n",
      "m5 : 2.3566109269527273\n",
      "m6 : 0.12111799704862937\n",
      "m7 : -2.953602045740796\n",
      "m8 : 2.4909637117972028\n",
      "m9 : -1.6536670086349439\n",
      "m10 : -2.2498893185635658\n",
      "m11 : 0.5875124926369985\n",
      "m12 : -4.262572937374763\n",
      "c: 22.6773900430416\n"
     ]
    }
   ],
   "source": [
    "m,c,costs = run()"
   ]
  },
  {
   "cell_type": "code",
   "execution_count": 11,
   "metadata": {},
   "outputs": [
    {
     "data": {
      "image/png": "[encoded data removed]",
      "text/plain": [
       "<Figure size 864x576 with 1 Axes>"
      ]
     },
     "metadata": {
      "needs_background": "light"
     },
     "output_type": "display_data"
    }
   ],
   "source": [
    "plt.rcParams['figure.figsize']=(12,8)\n",
    "plt.plot(costs)\n",
    "plt.xlabel(\"Iterations\")\n",
    "plt.ylabel(\"Cost Function\")\n",
    "plt.title(\"Cost function over Time\")\n",
    "plt.grid()\n",
    "plt.show()"
   ]
  },
  {
   "cell_type": "markdown",
   "metadata": {},
   "source": [
    "### Y predictions"
   ]
  },
  {
   "cell_type": "code",
   "execution_count": 12,
   "metadata": {},
   "outputs": [],
   "source": [
    "test_data = np.genfromtxt(\"test_boston_x_test.csv\",delimiter=',')"
   ]
  },
  {
   "cell_type": "code",
   "execution_count": 13,
   "metadata": {},
   "outputs": [],
   "source": [
    "# Y = mX + c\n",
    "y_preds = []\n",
    "M = len(test_data)\n",
    "for i in range(M):\n",
    "    y_pred = np.sum(m*test_data[i]) + c\n",
    "    y_preds.append(y_pred)"
   ]
  },
  {
   "cell_type": "code",
   "execution_count": 14,
   "metadata": {
    "scrolled": true
   },
   "outputs": [
    {
     "data": {
      "text/plain": [
       "[12.428792067424178,\n",
       " 29.016235642855605,\n",
       " 22.3741508099656,\n",
       " 24.46366487272192,\n",
       " 20.62804250622467,\n",
       " 2.733340693575066,\n",
       " 30.375121537243043,\n",
       " 24.854384726800774,\n",
       " 18.664253917693767,\n",
       " 23.539726441724568,\n",
       " 24.11349154219102,\n",
       " 17.717958744044815,\n",
       " 17.4715656187469,\n",
       " 21.666701375773098,\n",
       " 42.32087959834304,\n",
       " 23.862953577628403,\n",
       " 24.475133196053807,\n",
       " 27.5570044153568,\n",
       " 20.248227409003345,\n",
       " 31.16942767192288,\n",
       " 23.810497782419148,\n",
       " 25.00398675420182,\n",
       " 33.954076701082485,\n",
       " 36.42837561978644,\n",
       " 32.052009097761214,\n",
       " 16.701664715585792,\n",
       " 23.477572360491777,\n",
       " 32.96486506448782,\n",
       " 25.16280253499677,\n",
       " 33.7112803433356,\n",
       " 16.893012005369222,\n",
       " 26.04417523106336,\n",
       " 23.27509192689859,\n",
       " 25.47445032142335,\n",
       " 15.008702795957085,\n",
       " 29.593776763152206,\n",
       " 26.248358395671698,\n",
       " 20.39616005534095,\n",
       " 24.419975434351873,\n",
       " 9.448766026619957,\n",
       " 8.371691011584499,\n",
       " 29.007516191507364,\n",
       " 29.598856749743575,\n",
       " 19.76625723013916,\n",
       " 20.365569416213198,\n",
       " 3.1392019218943226,\n",
       " 39.52230127747693,\n",
       " 25.71766080255715,\n",
       " 30.348201539292695,\n",
       " 16.790563840833276,\n",
       " 17.884845335552363,\n",
       " 40.99626924498876,\n",
       " 17.56846921813774,\n",
       " 20.915786957650578,\n",
       " 15.604477889090486,\n",
       " 21.400863520581463,\n",
       " 18.453983731232174,\n",
       " 23.15722986325472,\n",
       " 13.679006789112993,\n",
       " 17.22969824055257,\n",
       " 15.033113698931434,\n",
       " 29.151625970217122,\n",
       " 25.191308826094733,\n",
       " 25.496900332780054,\n",
       " 17.203470698993836,\n",
       " 17.42608486937641,\n",
       " 34.70080544641595,\n",
       " 17.008734241337482,\n",
       " 27.09131966602572,\n",
       " 22.538014240142456,\n",
       " 29.275054656694408,\n",
       " 27.10641407584663,\n",
       " 17.736007366007225,\n",
       " 5.741888887508747,\n",
       " 36.854273895784175,\n",
       " 25.09545773592022,\n",
       " 30.134815757499236,\n",
       " 27.22651981013045,\n",
       " 16.24868369461582,\n",
       " 32.64923229053739,\n",
       " 19.267642141337255,\n",
       " 22.67817496562356,\n",
       " 22.284205364137527,\n",
       " 8.538481644694912,\n",
       " 17.326157854016365,\n",
       " 29.179567221455308,\n",
       " 27.201422472180518,\n",
       " 5.878998673441167,\n",
       " 21.84661066114231,\n",
       " 20.1090959824583,\n",
       " 22.174667259594234,\n",
       " 20.545496737368296,\n",
       " 20.878734208306938,\n",
       " 13.17903435918819,\n",
       " 19.70149786781172,\n",
       " 25.988632070958765,\n",
       " 40.26071628945529,\n",
       " 19.70882048761026,\n",
       " 33.69236983323198,\n",
       " 27.201658605957263,\n",
       " 28.73860881613178,\n",
       " 22.109646024167276,\n",
       " 25.904675549735206,\n",
       " 31.318429310604152,\n",
       " 17.1520445288906,\n",
       " 26.37378459356259,\n",
       " 21.463343710809454,\n",
       " 36.76095834459577,\n",
       " 22.06322332930131,\n",
       " 16.706997405095173,\n",
       " 27.60940617733867,\n",
       " -0.06737913670388096,\n",
       " 13.87970286948704,\n",
       " 16.277158061859748,\n",
       " 35.76990604882227,\n",
       " 20.87944527565398,\n",
       " 20.781607509897565,\n",
       " 25.344033138325443,\n",
       " 21.805366935093108,\n",
       " 18.846771880721068,\n",
       " 13.520967378564583,\n",
       " 35.60135287604167,\n",
       " 23.104430220299406,\n",
       " 24.998507827942944,\n",
       " 17.497778227030313,\n",
       " 20.761443457971787,\n",
       " 14.732507386568312]"
      ]
     },
     "execution_count": 14,
     "metadata": {},
     "output_type": "execute_result"
    }
   ],
   "source": [
    "y_preds"
   ]
  },
  {
   "cell_type": "code",
   "execution_count": 233,
   "metadata": {},
   "outputs": [],
   "source": [
    "ans = np.savetxt('ans.csv',y_preds)"
   ]
  },
  {
   "cell_type": "code",
   "execution_count": null,
   "metadata": {},
   "outputs": [],
   "source": []
  }
 ],
 "metadata": {
  "kernelspec": {
   "display_name": "Python 3",
   "language": "python",
   "name": "python3"
  },
  "language_info": {
   "codemirror_mode": {
    "name": "ipython",
    "version": 3
   },
   "file_extension": ".py",
   "mimetype": "text/x-python",
   "name": "python",
   "nbconvert_exporter": "python",
   "pygments_lexer": "ipython3",
   "version": "3.8.3"
  }
 },
 "nbformat": 4,
 "nbformat_minor": 4
}
